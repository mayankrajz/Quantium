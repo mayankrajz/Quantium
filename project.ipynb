{
 "cells": [
  {
   "cell_type": "code",
   "execution_count": 9,
   "metadata": {},
   "outputs": [
    {
     "name": "stdout",
     "output_type": "stream",
     "text": [
      "Collecting dash\n",
      "  Using cached dash-2.18.1-py3-none-any.whl.metadata (10 kB)\n",
      "Collecting Flask<3.1,>=1.0.4 (from dash)\n",
      "  Using cached flask-3.0.3-py3-none-any.whl.metadata (3.2 kB)\n",
      "Requirement already satisfied: Werkzeug<3.1 in c:\\users\\rajma\\appdata\\local\\programs\\python\\python312\\lib\\site-packages (from dash) (3.0.4)\n",
      "Requirement already satisfied: plotly>=5.0.0 in c:\\users\\rajma\\appdata\\local\\programs\\python\\python312\\lib\\site-packages (from dash) (5.24.1)\n",
      "Requirement already satisfied: dash-html-components==2.0.0 in c:\\users\\rajma\\appdata\\local\\programs\\python\\python312\\lib\\site-packages (from dash) (2.0.0)\n",
      "Requirement already satisfied: dash-core-components==2.0.0 in c:\\users\\rajma\\appdata\\local\\programs\\python\\python312\\lib\\site-packages (from dash) (2.0.0)\n",
      "Requirement already satisfied: dash-table==5.0.0 in c:\\users\\rajma\\appdata\\local\\programs\\python\\python312\\lib\\site-packages (from dash) (5.0.0)\n",
      "Collecting importlib-metadata (from dash)\n",
      "  Using cached importlib_metadata-8.5.0-py3-none-any.whl.metadata (4.8 kB)\n",
      "Requirement already satisfied: typing-extensions>=4.1.1 in c:\\users\\rajma\\appdata\\local\\programs\\python\\python312\\lib\\site-packages (from dash) (4.12.2)\n",
      "Requirement already satisfied: requests in c:\\users\\rajma\\appdata\\local\\programs\\python\\python312\\lib\\site-packages (from dash) (2.32.3)\n",
      "Requirement already satisfied: retrying in c:\\users\\rajma\\appdata\\local\\programs\\python\\python312\\lib\\site-packages (from dash) (1.3.4)\n",
      "Requirement already satisfied: nest-asyncio in c:\\users\\rajma\\appdata\\local\\programs\\python\\python312\\lib\\site-packages (from dash) (1.6.0)\n",
      "Requirement already satisfied: setuptools in c:\\users\\rajma\\appdata\\local\\programs\\python\\python312\\lib\\site-packages (from dash) (72.2.0)\n",
      "Requirement already satisfied: Jinja2>=3.1.2 in c:\\users\\rajma\\appdata\\local\\programs\\python\\python312\\lib\\site-packages (from Flask<3.1,>=1.0.4->dash) (3.1.4)\n",
      "Requirement already satisfied: itsdangerous>=2.1.2 in c:\\users\\rajma\\appdata\\local\\programs\\python\\python312\\lib\\site-packages (from Flask<3.1,>=1.0.4->dash) (2.2.0)\n",
      "Requirement already satisfied: click>=8.1.3 in c:\\users\\rajma\\appdata\\local\\programs\\python\\python312\\lib\\site-packages (from Flask<3.1,>=1.0.4->dash) (8.1.7)\n",
      "Requirement already satisfied: blinker>=1.6.2 in c:\\users\\rajma\\appdata\\local\\programs\\python\\python312\\lib\\site-packages (from Flask<3.1,>=1.0.4->dash) (1.8.2)\n",
      "Requirement already satisfied: tenacity>=6.2.0 in c:\\users\\rajma\\appdata\\local\\programs\\python\\python312\\lib\\site-packages (from plotly>=5.0.0->dash) (9.0.0)\n",
      "Requirement already satisfied: packaging in c:\\users\\rajma\\appdata\\local\\programs\\python\\python312\\lib\\site-packages (from plotly>=5.0.0->dash) (24.1)\n",
      "Requirement already satisfied: MarkupSafe>=2.1.1 in c:\\users\\rajma\\appdata\\local\\programs\\python\\python312\\lib\\site-packages (from Werkzeug<3.1->dash) (2.1.5)\n",
      "Requirement already satisfied: zipp>=3.20 in c:\\users\\rajma\\appdata\\local\\programs\\python\\python312\\lib\\site-packages (from importlib-metadata->dash) (3.20.2)\n",
      "Requirement already satisfied: charset-normalizer<4,>=2 in c:\\users\\rajma\\appdata\\local\\programs\\python\\python312\\lib\\site-packages (from requests->dash) (3.3.2)\n",
      "Requirement already satisfied: idna<4,>=2.5 in c:\\users\\rajma\\appdata\\local\\programs\\python\\python312\\lib\\site-packages (from requests->dash) (3.7)\n",
      "Requirement already satisfied: urllib3<3,>=1.21.1 in c:\\users\\rajma\\appdata\\local\\programs\\python\\python312\\lib\\site-packages (from requests->dash) (2.2.2)\n",
      "Requirement already satisfied: certifi>=2017.4.17 in c:\\users\\rajma\\appdata\\local\\programs\\python\\python312\\lib\\site-packages (from requests->dash) (2024.7.4)\n",
      "Requirement already satisfied: six>=1.7.0 in c:\\users\\rajma\\appdata\\local\\programs\\python\\python312\\lib\\site-packages (from retrying->dash) (1.16.0)\n",
      "Requirement already satisfied: colorama in c:\\users\\rajma\\appdata\\local\\programs\\python\\python312\\lib\\site-packages (from click>=8.1.3->Flask<3.1,>=1.0.4->dash) (0.4.6)\n",
      "Using cached dash-2.18.1-py3-none-any.whl (7.5 MB)\n",
      "Using cached flask-3.0.3-py3-none-any.whl (101 kB)\n",
      "Using cached importlib_metadata-8.5.0-py3-none-any.whl (26 kB)\n",
      "Installing collected packages: importlib-metadata, Flask, dash\n",
      "Successfully installed Flask-3.0.3 dash-2.18.1 importlib-metadata-8.5.0\n"
     ]
    }
   ],
   "source": [
    "!pip install dash"
   ]
  },
  {
   "cell_type": "code",
   "execution_count": 10,
   "metadata": {},
   "outputs": [
    {
     "name": "stdout",
     "output_type": "stream",
     "text": [
      "Requirement already satisfied: pandas in c:\\users\\rajma\\appdata\\local\\programs\\python\\python312\\lib\\site-packages (2.2.2)\n",
      "Requirement already satisfied: numpy>=1.26.0 in c:\\users\\rajma\\appdata\\local\\programs\\python\\python312\\lib\\site-packages (from pandas) (1.26.4)\n",
      "Requirement already satisfied: python-dateutil>=2.8.2 in c:\\users\\rajma\\appdata\\local\\programs\\python\\python312\\lib\\site-packages (from pandas) (2.9.0.post0)\n",
      "Requirement already satisfied: pytz>=2020.1 in c:\\users\\rajma\\appdata\\local\\programs\\python\\python312\\lib\\site-packages (from pandas) (2024.1)\n",
      "Requirement already satisfied: tzdata>=2022.7 in c:\\users\\rajma\\appdata\\local\\programs\\python\\python312\\lib\\site-packages (from pandas) (2024.1)\n",
      "Requirement already satisfied: six>=1.5 in c:\\users\\rajma\\appdata\\local\\programs\\python\\python312\\lib\\site-packages (from python-dateutil>=2.8.2->pandas) (1.16.0)\n"
     ]
    }
   ],
   "source": [
    "!pip install pandas"
   ]
  },
  {
   "cell_type": "code",
   "execution_count": 12,
   "metadata": {},
   "outputs": [
    {
     "name": "stdout",
     "output_type": "stream",
     "text": [
      "Requirement already satisfied: dash[testing] in c:\\users\\rajma\\appdata\\local\\programs\\python\\python312\\lib\\site-packages (2.18.1)\n",
      "Requirement already satisfied: Flask<3.1,>=1.0.4 in c:\\users\\rajma\\appdata\\local\\programs\\python\\python312\\lib\\site-packages (from dash[testing]) (3.0.3)\n",
      "Requirement already satisfied: Werkzeug<3.1 in c:\\users\\rajma\\appdata\\local\\programs\\python\\python312\\lib\\site-packages (from dash[testing]) (3.0.4)\n",
      "Requirement already satisfied: plotly>=5.0.0 in c:\\users\\rajma\\appdata\\local\\programs\\python\\python312\\lib\\site-packages (from dash[testing]) (5.24.1)\n",
      "Requirement already satisfied: dash-html-components==2.0.0 in c:\\users\\rajma\\appdata\\local\\programs\\python\\python312\\lib\\site-packages (from dash[testing]) (2.0.0)\n",
      "Requirement already satisfied: dash-core-components==2.0.0 in c:\\users\\rajma\\appdata\\local\\programs\\python\\python312\\lib\\site-packages (from dash[testing]) (2.0.0)\n",
      "Requirement already satisfied: dash-table==5.0.0 in c:\\users\\rajma\\appdata\\local\\programs\\python\\python312\\lib\\site-packages (from dash[testing]) (5.0.0)\n",
      "Requirement already satisfied: importlib-metadata in c:\\users\\rajma\\appdata\\local\\programs\\python\\python312\\lib\\site-packages (from dash[testing]) (8.5.0)\n",
      "Requirement already satisfied: typing-extensions>=4.1.1 in c:\\users\\rajma\\appdata\\local\\programs\\python\\python312\\lib\\site-packages (from dash[testing]) (4.12.2)\n",
      "Requirement already satisfied: requests in c:\\users\\rajma\\appdata\\local\\programs\\python\\python312\\lib\\site-packages (from dash[testing]) (2.32.3)\n",
      "Requirement already satisfied: retrying in c:\\users\\rajma\\appdata\\local\\programs\\python\\python312\\lib\\site-packages (from dash[testing]) (1.3.4)\n",
      "Requirement already satisfied: nest-asyncio in c:\\users\\rajma\\appdata\\local\\programs\\python\\python312\\lib\\site-packages (from dash[testing]) (1.6.0)\n",
      "Requirement already satisfied: setuptools in c:\\users\\rajma\\appdata\\local\\programs\\python\\python312\\lib\\site-packages (from dash[testing]) (72.2.0)\n",
      "Requirement already satisfied: beautifulsoup4>=4.8.2 in c:\\users\\rajma\\appdata\\local\\programs\\python\\python312\\lib\\site-packages (from dash[testing]) (4.12.3)\n",
      "Collecting cryptography (from dash[testing])\n",
      "  Downloading cryptography-43.0.3-cp39-abi3-win_amd64.whl.metadata (5.4 kB)\n",
      "Requirement already satisfied: lxml>=4.6.2 in c:\\users\\rajma\\appdata\\local\\programs\\python\\python312\\lib\\site-packages (from dash[testing]) (5.3.0)\n",
      "Collecting percy>=2.0.2 (from dash[testing])\n",
      "  Downloading percy-2.0.2-py2.py3-none-any.whl.metadata (821 bytes)\n",
      "Collecting pytest>=6.0.2 (from dash[testing])\n",
      "  Downloading pytest-8.3.3-py3-none-any.whl.metadata (7.5 kB)\n",
      "Collecting selenium<=4.2.0,>=3.141.0 (from dash[testing])\n",
      "  Downloading selenium-4.2.0-py3-none-any.whl.metadata (6.5 kB)\n",
      "Collecting waitress>=1.4.4 (from dash[testing])\n",
      "  Downloading waitress-3.0.0-py3-none-any.whl.metadata (4.2 kB)\n",
      "Collecting multiprocess>=0.70.12 (from dash[testing])\n",
      "  Downloading multiprocess-0.70.17-py312-none-any.whl.metadata (7.2 kB)\n",
      "Requirement already satisfied: psutil>=5.8.0 in c:\\users\\rajma\\appdata\\local\\programs\\python\\python312\\lib\\site-packages (from dash[testing]) (6.0.0)\n",
      "Collecting dash-testing-stub>=0.0.2 (from dash[testing])\n",
      "  Downloading dash_testing_stub-0.0.2-py3-none-any.whl.metadata (587 bytes)\n",
      "Requirement already satisfied: soupsieve>1.2 in c:\\users\\rajma\\appdata\\local\\programs\\python\\python312\\lib\\site-packages (from beautifulsoup4>=4.8.2->dash[testing]) (2.6)\n",
      "Requirement already satisfied: Jinja2>=3.1.2 in c:\\users\\rajma\\appdata\\local\\programs\\python\\python312\\lib\\site-packages (from Flask<3.1,>=1.0.4->dash[testing]) (3.1.4)\n",
      "Requirement already satisfied: itsdangerous>=2.1.2 in c:\\users\\rajma\\appdata\\local\\programs\\python\\python312\\lib\\site-packages (from Flask<3.1,>=1.0.4->dash[testing]) (2.2.0)\n",
      "Requirement already satisfied: click>=8.1.3 in c:\\users\\rajma\\appdata\\local\\programs\\python\\python312\\lib\\site-packages (from Flask<3.1,>=1.0.4->dash[testing]) (8.1.7)\n",
      "Requirement already satisfied: blinker>=1.6.2 in c:\\users\\rajma\\appdata\\local\\programs\\python\\python312\\lib\\site-packages (from Flask<3.1,>=1.0.4->dash[testing]) (1.8.2)\n",
      "Collecting dill>=0.3.9 (from multiprocess>=0.70.12->dash[testing])\n",
      "  Downloading dill-0.3.9-py3-none-any.whl.metadata (10 kB)\n",
      "Requirement already satisfied: tenacity>=6.2.0 in c:\\users\\rajma\\appdata\\local\\programs\\python\\python312\\lib\\site-packages (from plotly>=5.0.0->dash[testing]) (9.0.0)\n",
      "Requirement already satisfied: packaging in c:\\users\\rajma\\appdata\\local\\programs\\python\\python312\\lib\\site-packages (from plotly>=5.0.0->dash[testing]) (24.1)\n",
      "Collecting iniconfig (from pytest>=6.0.2->dash[testing])\n",
      "  Downloading iniconfig-2.0.0-py3-none-any.whl.metadata (2.6 kB)\n",
      "Collecting pluggy<2,>=1.5 (from pytest>=6.0.2->dash[testing])\n",
      "  Downloading pluggy-1.5.0-py3-none-any.whl.metadata (4.8 kB)\n",
      "Requirement already satisfied: colorama in c:\\users\\rajma\\appdata\\local\\programs\\python\\python312\\lib\\site-packages (from pytest>=6.0.2->dash[testing]) (0.4.6)\n",
      "Requirement already satisfied: charset-normalizer<4,>=2 in c:\\users\\rajma\\appdata\\local\\programs\\python\\python312\\lib\\site-packages (from requests->dash[testing]) (3.3.2)\n",
      "Requirement already satisfied: idna<4,>=2.5 in c:\\users\\rajma\\appdata\\local\\programs\\python\\python312\\lib\\site-packages (from requests->dash[testing]) (3.7)\n",
      "Requirement already satisfied: urllib3<3,>=1.21.1 in c:\\users\\rajma\\appdata\\local\\programs\\python\\python312\\lib\\site-packages (from requests->dash[testing]) (2.2.2)\n",
      "Requirement already satisfied: certifi>=2017.4.17 in c:\\users\\rajma\\appdata\\local\\programs\\python\\python312\\lib\\site-packages (from requests->dash[testing]) (2024.7.4)\n",
      "Collecting urllib3<3,>=1.21.1 (from requests->dash[testing])\n",
      "  Downloading urllib3-1.26.20-py2.py3-none-any.whl.metadata (50 kB)\n",
      "Requirement already satisfied: trio~=0.17 in c:\\users\\rajma\\appdata\\local\\programs\\python\\python312\\lib\\site-packages (from selenium<=4.2.0,>=3.141.0->dash[testing]) (0.26.2)\n",
      "Requirement already satisfied: trio-websocket~=0.9 in c:\\users\\rajma\\appdata\\local\\programs\\python\\python312\\lib\\site-packages (from selenium<=4.2.0,>=3.141.0->dash[testing]) (0.11.1)\n",
      "Requirement already satisfied: MarkupSafe>=2.1.1 in c:\\users\\rajma\\appdata\\local\\programs\\python\\python312\\lib\\site-packages (from Werkzeug<3.1->dash[testing]) (2.1.5)\n",
      "Requirement already satisfied: cffi>=1.12 in c:\\users\\rajma\\appdata\\local\\programs\\python\\python312\\lib\\site-packages (from cryptography->dash[testing]) (1.17.0)\n",
      "Requirement already satisfied: zipp>=3.20 in c:\\users\\rajma\\appdata\\local\\programs\\python\\python312\\lib\\site-packages (from importlib-metadata->dash[testing]) (3.20.2)\n",
      "Requirement already satisfied: six>=1.7.0 in c:\\users\\rajma\\appdata\\local\\programs\\python\\python312\\lib\\site-packages (from retrying->dash[testing]) (1.16.0)\n",
      "Requirement already satisfied: pycparser in c:\\users\\rajma\\appdata\\local\\programs\\python\\python312\\lib\\site-packages (from cffi>=1.12->cryptography->dash[testing]) (2.22)\n",
      "Requirement already satisfied: attrs>=23.2.0 in c:\\users\\rajma\\appdata\\local\\programs\\python\\python312\\lib\\site-packages (from trio~=0.17->selenium<=4.2.0,>=3.141.0->dash[testing]) (24.2.0)\n",
      "Requirement already satisfied: sortedcontainers in c:\\users\\rajma\\appdata\\local\\programs\\python\\python312\\lib\\site-packages (from trio~=0.17->selenium<=4.2.0,>=3.141.0->dash[testing]) (2.4.0)\n",
      "Requirement already satisfied: outcome in c:\\users\\rajma\\appdata\\local\\programs\\python\\python312\\lib\\site-packages (from trio~=0.17->selenium<=4.2.0,>=3.141.0->dash[testing]) (1.3.0.post0)\n",
      "Requirement already satisfied: sniffio>=1.3.0 in c:\\users\\rajma\\appdata\\local\\programs\\python\\python312\\lib\\site-packages (from trio~=0.17->selenium<=4.2.0,>=3.141.0->dash[testing]) (1.3.1)\n",
      "Requirement already satisfied: wsproto>=0.14 in c:\\users\\rajma\\appdata\\local\\programs\\python\\python312\\lib\\site-packages (from trio-websocket~=0.9->selenium<=4.2.0,>=3.141.0->dash[testing]) (1.2.0)\n",
      "Collecting pyOpenSSL>=0.14 (from urllib3[secure,socks]~=1.26->selenium<=4.2.0,>=3.141.0->dash[testing])\n",
      "  Downloading pyOpenSSL-24.2.1-py3-none-any.whl.metadata (13 kB)\n",
      "Collecting urllib3-secure-extra (from urllib3[secure,socks]~=1.26->selenium<=4.2.0,>=3.141.0->dash[testing])\n",
      "  Downloading urllib3_secure_extra-0.1.0-py2.py3-none-any.whl.metadata (828 bytes)\n",
      "Requirement already satisfied: PySocks!=1.5.7,<2.0,>=1.5.6 in c:\\users\\rajma\\appdata\\local\\programs\\python\\python312\\lib\\site-packages (from urllib3[secure,socks]~=1.26->selenium<=4.2.0,>=3.141.0->dash[testing]) (1.7.1)\n",
      "Requirement already satisfied: h11<1,>=0.9.0 in c:\\users\\rajma\\appdata\\local\\programs\\python\\python312\\lib\\site-packages (from wsproto>=0.14->trio-websocket~=0.9->selenium<=4.2.0,>=3.141.0->dash[testing]) (0.14.0)\n",
      "Downloading dash_testing_stub-0.0.2-py3-none-any.whl (2.6 kB)\n",
      "Downloading multiprocess-0.70.17-py312-none-any.whl (147 kB)\n",
      "Downloading percy-2.0.2-py2.py3-none-any.whl (12 kB)\n",
      "Downloading pytest-8.3.3-py3-none-any.whl (342 kB)\n",
      "Downloading selenium-4.2.0-py3-none-any.whl (983 kB)\n",
      "   ---------------------------------------- 0.0/983.2 kB ? eta -:--:--\n",
      "   ---------------------------------------- 983.2/983.2 kB 5.1 MB/s eta 0:00:00\n",
      "Downloading waitress-3.0.0-py3-none-any.whl (56 kB)\n",
      "Downloading cryptography-43.0.3-cp39-abi3-win_amd64.whl (3.1 MB)\n",
      "   ---------------------------------------- 0.0/3.1 MB ? eta -:--:--\n",
      "   ---------- ----------------------------- 0.8/3.1 MB 6.7 MB/s eta 0:00:01\n",
      "   -------------------- ------------------- 1.6/3.1 MB 3.5 MB/s eta 0:00:01\n",
      "   ------------------------------ --------- 2.4/3.1 MB 3.6 MB/s eta 0:00:01\n",
      "   ------------------------------------- -- 2.9/3.1 MB 3.4 MB/s eta 0:00:01\n",
      "   ---------------------------------------- 3.1/3.1 MB 3.3 MB/s eta 0:00:00\n",
      "Downloading dill-0.3.9-py3-none-any.whl (119 kB)\n",
      "Downloading pluggy-1.5.0-py3-none-any.whl (20 kB)\n",
      "Downloading urllib3-1.26.20-py2.py3-none-any.whl (144 kB)\n",
      "Downloading iniconfig-2.0.0-py3-none-any.whl (5.9 kB)\n",
      "Downloading pyOpenSSL-24.2.1-py3-none-any.whl (58 kB)\n",
      "Downloading urllib3_secure_extra-0.1.0-py2.py3-none-any.whl (1.4 kB)\n",
      "Installing collected packages: urllib3-secure-extra, dash-testing-stub, waitress, urllib3, pluggy, iniconfig, dill, pytest, multiprocess, cryptography, pyOpenSSL, percy, selenium\n",
      "  Attempting uninstall: urllib3\n",
      "    Found existing installation: urllib3 2.2.2\n",
      "    Uninstalling urllib3-2.2.2:\n",
      "      Successfully uninstalled urllib3-2.2.2\n",
      "  Attempting uninstall: selenium\n",
      "    Found existing installation: selenium 4.24.0\n",
      "    Uninstalling selenium-4.24.0:\n",
      "      Successfully uninstalled selenium-4.24.0\n",
      "Successfully installed cryptography-43.0.3 dash-testing-stub-0.0.2 dill-0.3.9 iniconfig-2.0.0 multiprocess-0.70.17 percy-2.0.2 pluggy-1.5.0 pyOpenSSL-24.2.1 pytest-8.3.3 selenium-4.2.0 urllib3-1.26.20 urllib3-secure-extra-0.1.0 waitress-3.0.0\n",
      "Note: you may need to restart the kernel to use updated packages.\n"
     ]
    }
   ],
   "source": [
    "pip install \"dash[testing]\""
   ]
  },
  {
   "cell_type": "code",
   "execution_count": null,
   "metadata": {},
   "outputs": [],
   "source": []
  }
 ],
 "metadata": {
  "kernelspec": {
   "display_name": "Python 3",
   "language": "python",
   "name": "python3"
  },
  "language_info": {
   "codemirror_mode": {
    "name": "ipython",
    "version": 3
   },
   "file_extension": ".py",
   "mimetype": "text/x-python",
   "name": "python",
   "nbconvert_exporter": "python",
   "pygments_lexer": "ipython3",
   "version": "3.12.5"
  }
 },
 "nbformat": 4,
 "nbformat_minor": 2
}
